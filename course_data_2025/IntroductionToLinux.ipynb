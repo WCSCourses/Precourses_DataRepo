{
  "nbformat": 4,
  "nbformat_minor": 0,
  "metadata": {
    "colab": {
      "provenance": []
    },
    "kernelspec": {
      "name": "python3",
      "display_name": "Python 3"
    },
    "language_info": {
      "name": "python"
    }
  },
  "cells": [
    {
      "cell_type": "markdown",
      "source": [
        "# Wellcome to the Introduction to Linux pre-course module.\n",
        "\n"
      ],
      "metadata": {
        "id": "uROIKXAUW1Re"
      }
    },
    {
      "cell_type": "markdown",
      "source": [
        "\n",
        "\n",
        "\n",
        "In this section, you can find information on the following basic Linux commands:\n",
        "\n",
        "pwd, cd, ls, rm, mv, mkdir, man\n",
        "chmod, chown, chgrp\n",
        "which, history, less, echo\n",
        "cat, less, head, tail\n",
        "wc -l, wc -w, wc -c\n",
        "sort, uniq\n",
        "grep\n",
        "\n",
        "\n",
        "**pwd, cd, ls, rm, mv, mkdir, man**\n",
        "\n",
        "\n",
        "In the video below, Martin is presenting basic Linux commands ***pwd, cd, ls, rm, mv, mkdir, man***.\n",
        "\n",
        "Press the Play button below to embed the video in this Google colab."
      ],
      "metadata": {
        "id": "ONe8hoPNSJxq"
      }
    },
    {
      "cell_type": "code",
      "source": [
        "from IPython.display import YouTubeVideo\n",
        "\n",
        "YouTubeVideo('_JDPWMnO0m8', width=640, height=480)"
      ],
      "metadata": {
        "colab": {
          "base_uri": "https://localhost:8080/",
          "height": 501
        },
        "id": "kFWBDNBybIx5",
        "outputId": "9c9d9e2b-32b7-4271-8ba7-4c94bf858cb6"
      },
      "execution_count": null,
      "outputs": [
        {
          "output_type": "execute_result",
          "data": {
            "text/plain": [
              "<IPython.lib.display.YouTubeVideo at 0x7ddc47479150>"
            ],
            "text/html": [
              "\n",
              "        <iframe\n",
              "            width=\"640\"\n",
              "            height=\"480\"\n",
              "            src=\"https://www.youtube.com/embed/_JDPWMnO0m8\"\n",
              "            frameborder=\"0\"\n",
              "            allowfullscreen\n",
              "            \n",
              "        ></iframe>\n",
              "        "
            ],
            "image/jpeg": "[encoded data removed]"
          },
          "metadata": {},
          "execution_count": 63
        }
      ]
    },
    {
      "cell_type": "markdown",
      "source": [
        "It is now time to practice some Linux commands. First thing is to create a directory. Run the `mkdir` command to create a folder called `basic_linux`"
      ],
      "metadata": {
        "id": "CG1790aIYqks"
      }
    },
    {
      "cell_type": "code",
      "execution_count": null,
      "metadata": {
        "id": "S8uvfgRXnz38",
        "colab": {
          "base_uri": "https://localhost:8080/"
        },
        "outputId": "4fa541f0-53b7-4f1f-d3d1-dbdcb64a054d"
      },
      "outputs": [
        {
          "output_type": "stream",
          "name": "stdout",
          "text": [
            "mkdir: cannot create directory ‘/content/basic_linux’: File exists\n"
          ]
        }
      ],
      "source": [
        "#!rm -r /content/basic_linux\n",
        "!mkdir /content/basic_linux"
      ]
    },
    {
      "cell_type": "markdown",
      "source": [
        "Now, run the `cd` command to navigate to the newly created folder `basic_linux`"
      ],
      "metadata": {
        "id": "DyyBRnSaH-N8"
      }
    },
    {
      "cell_type": "code",
      "source": [
        "!cd /content/basic_linux"
      ],
      "metadata": {
        "id": "N0n4xHKqYOx9",
        "colab": {
          "base_uri": "https://localhost:8080/"
        },
        "outputId": "cc562efe-f19c-4f17-a8d6-fa047f30ca5e"
      },
      "execution_count": null,
      "outputs": [
        {
          "output_type": "stream",
          "name": "stdout",
          "text": [
            "/content/basic_linux\n"
          ]
        }
      ]
    },
    {
      "cell_type": "markdown",
      "source": [
        "Run the `pwd` command to visualise the path to the current directory."
      ],
      "metadata": {
        "id": "nWAGfEF7IISz"
      }
    },
    {
      "cell_type": "code",
      "source": [
        "!pwd"
      ],
      "metadata": {
        "colab": {
          "base_uri": "https://localhost:8080/",
          "height": 35
        },
        "id": "ccxRV_y5Fg0b",
        "outputId": "e6e55f9d-c9e9-4557-bc2a-fec833ddf299"
      },
      "execution_count": null,
      "outputs": [
        {
          "output_type": "execute_result",
          "data": {
            "text/plain": [
              "'/content/basic_linux'"
            ],
            "application/vnd.google.colaboratory.intrinsic+json": {
              "type": "string"
            }
          },
          "metadata": {},
          "execution_count": 21
        }
      ]
    },
    {
      "cell_type": "markdown",
      "source": [
        "Run the `ls` command to visualise the contents of the current folder. The current folder is emply as it has just been created.\n"
      ],
      "metadata": {
        "id": "0QGjT5CTIPpd"
      }
    },
    {
      "cell_type": "code",
      "source": [
        "!ls"
      ],
      "metadata": {
        "id": "b_CzRZqmYRgX"
      },
      "execution_count": null,
      "outputs": []
    },
    {
      "cell_type": "markdown",
      "source": [
        "Next, you will download a file to your directory. The file that you will download is stored on a Github repository. You can download the file by using the `wget` command."
      ],
      "metadata": {
        "id": "Usw9tyQpIWPl"
      }
    },
    {
      "cell_type": "code",
      "source": [
        "!wget https://raw.githubusercontent.com/WCSCourses/Precourses_DataRepo/refs/heads/main/course_data_2025/linux_googlecolab_data/Diamonds.csv"
      ],
      "metadata": {
        "id": "IbqzmNz3FlPM",
        "colab": {
          "base_uri": "https://localhost:8080/"
        },
        "outputId": "a658d022-2dec-4dd7-9fb9-16812adb7308"
      },
      "execution_count": null,
      "outputs": [
        {
          "output_type": "stream",
          "name": "stdout",
          "text": [
            "--2025-02-03 16:17:30--  https://raw.githubusercontent.com/WCSCourses/Precourses_DataRepo/refs/heads/main/course_data_2025/linux_googlecolab_data/Diamonds.csv\n",
            "Resolving raw.githubusercontent.com (raw.githubusercontent.com)... 185.199.108.133, 185.199.111.133, 185.199.110.133, ...\n",
            "Connecting to raw.githubusercontent.com (raw.githubusercontent.com)|185.199.108.133|:443... connected.\n",
            "HTTP request sent, awaiting response... 200 OK\n",
            "Length: 2448482 (2.3M) [text/plain]\n",
            "Saving to: ‘Diamonds.csv’\n",
            "\n",
            "\rDiamonds.csv          0%[                    ]       0  --.-KB/s               \rDiamonds.csv        100%[===================>]   2.33M  --.-KB/s    in 0.08s   \n",
            "\n",
            "2025-02-03 16:17:30 (31.0 MB/s) - ‘Diamonds.csv’ saved [2448482/2448482]\n",
            "\n"
          ]
        }
      ]
    },
    {
      "cell_type": "markdown",
      "source": [
        "Use the `ls` command to check that the file was successfully downloaded to the current directory."
      ],
      "metadata": {
        "id": "8GFxQnbPIugH"
      }
    },
    {
      "cell_type": "code",
      "source": [
        "!ls"
      ],
      "metadata": {
        "id": "hTD3XoMSYTYL",
        "colab": {
          "base_uri": "https://localhost:8080/"
        },
        "outputId": "c3d2fe69-b5ad-4390-c615-c365be3c6ec2"
      },
      "execution_count": null,
      "outputs": [
        {
          "output_type": "stream",
          "name": "stdout",
          "text": [
            "Diamonds.csv\n"
          ]
        }
      ]
    },
    {
      "cell_type": "markdown",
      "source": [
        "Create a new directory called `basic_linux_new` using the `mkdir` command."
      ],
      "metadata": {
        "id": "y6VXDUXWI5y4"
      }
    },
    {
      "cell_type": "code",
      "source": [
        "!mkdir /content/basic_linux_new"
      ],
      "metadata": {
        "id": "eVycL4IVYWFG",
        "colab": {
          "base_uri": "https://localhost:8080/"
        },
        "outputId": "b36f40bd-25b6-4306-ba31-bce9dfde5cc4"
      },
      "execution_count": null,
      "outputs": [
        {
          "output_type": "stream",
          "name": "stdout",
          "text": [
            "mkdir: cannot create directory ‘/content/basic_linux_new’: File exists\n"
          ]
        }
      ]
    },
    {
      "cell_type": "markdown",
      "source": [
        "Check the contents of your new directory using the `ls` command."
      ],
      "metadata": {
        "id": "xYp7-_6UJCBq"
      }
    },
    {
      "cell_type": "code",
      "source": [
        "!ls /content/basic_linux_new"
      ],
      "metadata": {
        "id": "QimTpu6HYZi1"
      },
      "execution_count": null,
      "outputs": []
    },
    {
      "cell_type": "markdown",
      "source": [
        "The basic_linux_new directory is empty, as it has just been created.\n",
        "\n",
        "Now, using the `cp` command, copy the `Diamonds.csv` file from the `basic_linux` folder, to the `basic_linux_new` folder"
      ],
      "metadata": {
        "id": "EsPOH5i8JMXk"
      }
    },
    {
      "cell_type": "code",
      "source": [
        "cp /content/basic_linux/Diamonds.csv /content/basic_linux_new/"
      ],
      "metadata": {
        "id": "u35YOmcxYbZw",
        "colab": {
          "base_uri": "https://localhost:8080/"
        },
        "outputId": "e5023afe-70d7-4c88-be9f-fff504e1fe20"
      },
      "execution_count": null,
      "outputs": [
        {
          "output_type": "stream",
          "name": "stdout",
          "text": [
            "cp: cannot stat '/content/basic_linux/Diamonds.csv': No such file or directory\n"
          ]
        }
      ]
    },
    {
      "cell_type": "markdown",
      "source": [
        "Check the contents of the `basic_linux_new` folder using the `ls` command."
      ],
      "metadata": {
        "id": "GeNAJDqpJkEa"
      }
    },
    {
      "cell_type": "code",
      "source": [
        "ls /content/basic_linux_new/"
      ],
      "metadata": {
        "id": "RoDq_EJZGsv7"
      },
      "execution_count": null,
      "outputs": []
    },
    {
      "cell_type": "markdown",
      "source": [
        "Re-check the contents of the `basic_linux` folder using the `ls` command. A copy of Diamonds.csv file should be there."
      ],
      "metadata": {
        "id": "P6chrM8wJrpe"
      }
    },
    {
      "cell_type": "code",
      "source": [
        "ls /content/basic_linux/"
      ],
      "metadata": {
        "id": "a-vesf6YG5hJ"
      },
      "execution_count": null,
      "outputs": []
    },
    {
      "cell_type": "markdown",
      "source": [
        "Now, remove the file `Diamonds.csv` from the basic_linux folder using the `rm` command."
      ],
      "metadata": {
        "id": "Uxmd5Q01J6nI"
      }
    },
    {
      "cell_type": "code",
      "source": [
        "rm /content/basic_linux/Diamonds.csv"
      ],
      "metadata": {
        "id": "dr3BqGzeG_YL"
      },
      "execution_count": null,
      "outputs": []
    },
    {
      "cell_type": "markdown",
      "source": [
        "Check if the file has been removed using the `ls` command."
      ],
      "metadata": {
        "id": "97Dc0_YuKGMS"
      }
    },
    {
      "cell_type": "code",
      "source": [
        "ls /content/basic_linux/"
      ],
      "metadata": {
        "id": "Tb8BAy0lHDWK"
      },
      "execution_count": null,
      "outputs": []
    },
    {
      "cell_type": "markdown",
      "source": [
        "The folder `basic_linux` is empty. Now, let's move the copy of `Diamonds.csv` file from the `basic_linux_new` folder to the `basic_linux` folder using the `mv` command."
      ],
      "metadata": {
        "id": "NFhYya1FKNQr"
      }
    },
    {
      "cell_type": "code",
      "source": [
        "mv /content/basic_linux_new/Diamonds.csv /content/basic_linux/"
      ],
      "metadata": {
        "id": "qNAYmznqHGrJ"
      },
      "execution_count": null,
      "outputs": []
    },
    {
      "cell_type": "markdown",
      "source": [
        "Check the contents of the `basic_linux_new` folder using the `ls` command"
      ],
      "metadata": {
        "id": "YBD-6BMBKepk"
      }
    },
    {
      "cell_type": "code",
      "source": [
        "ls /content/basic_linux_new/"
      ],
      "metadata": {
        "id": "FLoAg8CEHNvT"
      },
      "execution_count": null,
      "outputs": []
    },
    {
      "cell_type": "markdown",
      "source": [
        "Check the contents of the `basic_linux` folder using the `ls` command."
      ],
      "metadata": {
        "id": "nZcrnBA3KlCw"
      }
    },
    {
      "cell_type": "code",
      "source": [
        "ls /content/basic_linux/"
      ],
      "metadata": {
        "id": "xfQofxkrHQW-"
      },
      "execution_count": null,
      "outputs": []
    },
    {
      "cell_type": "markdown",
      "source": [
        "**chmod, chown, chgrp**\n",
        "\n",
        "\n",
        "In this section of the course, we discuss Linux files, file permissions and commands such as  ***ls, chmod, chown, chgrp and man***.\n",
        "\n",
        "The most basic definition of a file in Linux is that it is a named collection of data which appears to the user as a contiguous block of information.\n",
        "\n",
        "Everything in Linux is either a file or a process (i.e. a running program). Files do not just include text files, image files and compiled binary files of programs. A directory is a special type of file, disk partitions are files and hardware device drivers are files. In saying this, as a Linux user, you will mostly be dealing with text files, image files and compiled binary files.\n",
        "\n",
        "Each file has an individual owner (most often the user who created it) and a wider set of owners belonging to a particular Unix group. A Unix group is a set of users who have permission to access particular software or particular files. As an example, in large organisations, groups may be set up so only members of particular teams can access particular files and directories. Groups are also used to ensure that only certain users can use commands which may affect the full Linux system. To see which groups you are in, run the command groups. Each user has a primary group. This will be listed first in the output of groups. By default, any files or directories created by this user will be group owned by this primary group.\n",
        "\n",
        "When explaining file permissions, it's perhaps best to look at thing in the context of the output of the command `ls -l` (the long form output of ls):\n"
      ],
      "metadata": {
        "id": "TvvChIq3YuQU"
      }
    },
    {
      "cell_type": "code",
      "source": [
        "ls -l"
      ],
      "metadata": {
        "id": "eQcSRKtSZGfZ"
      },
      "execution_count": null,
      "outputs": []
    },
    {
      "cell_type": "markdown",
      "source": [
        "In the example above, column 5 lists the size of a file/directory, column 6 is the date it was last modified and column 7 displays the file name. Additionally, column 3 lists the user who owns the file and column 4 shows the group owning the file. Column 2 represents the number of links to a file. We won't go into detail here but this will generally be 1 for a standard file and a number greater than 1 for a directory.\n",
        "\n",
        "Column 1 gives details of file permissions. It consists of 10 characters. The first character indicates whether a file has a special status. Most commonly, when the character is a `d`, this means that the listed file is a directory. The next nine characters are split into three groups. Characters 2 to 4 indicate permissions for the ***owner of the file***, characters 5 to 7 for the ***group owners*** of the file and characters 8 to 10 indicate permissions for ***all other users***. In each case, if the first character is `r`, this means the user or group of users can read the file. If the second character is `w`, this means that the user or group of users can write to the file. Lastly, if the final character is x, this indicates that the file is executable by that user (i.e. it is a script or program they can run). *Please note that directories are always executable if a user has permission to look at them.*\n",
        "\n",
        "There are three commands used to change ownership and permissions of files. These are `chown`, which changes user ownership of a file, `chgrp`, which changes group ownership of a file, and `chmod`, which changes the permissions of a file.\n",
        "\n",
        "Generally, chown can only be used by users with admin rights so you are unlikely to use this command. The general syntax is:\n",
        "\n",
        "`chown OPTIONS USER FILE[S}`\n",
        "\n",
        "Try running"
      ],
      "metadata": {
        "id": "tZferjgvZUbF"
      }
    },
    {
      "cell_type": "markdown",
      "source": [
        "Changing group ownership with chgrp uses similar syntax to that used by chown i.e.\n",
        "\n",
        "`chgrp OPTIONS USER FILE[S}`\n",
        "\n",
        "Again, use `man` to check the options. The option most often used is `-r` to make changes recursively down a directory. A user can only change group ownership of a file they own. Similarly, a user may only change group ownership of a file to a group they are a member of.\n",
        "\n",
        "Of the three commands listed above, `chmod` is the one you will probably use most frequently. It can be used in two ways. The first, known as numeric mode, unsurprisingly uses numeric arguments to set permissions for all three types of user (owner, group and universal). The basic syntax used is similar in some ways to the syntax used for `chown` and `chgrp`. It is\n",
        "\n",
        "`chmod OPTIONS THREE_DIGITS FILE[S]`\n",
        "\n",
        "As an example,`chmod 666 file.txt` will set a file called *file.txt* to be both readable and writable by the owner, the group and all users.\n",
        "\n",
        "This site demonstrates the meaning of each digit and can be used to ensure you set permissions correctly:\n",
        "\n",
        "[https://chmod-calculator.com/](https://chmod-calculator.com/)\n",
        "\n",
        "The second way to use `chmod` is known as symbolic mode. It uses a similar syntax but letters and symbols (+ and -) to set permissions. There are always three characters to the argument when running `chmod` in symbolic mode. The first character must always be a letter and can be one of u (user), g (group), o (others) or a (all i.e anyone covered by u, g or o). The second character is a symbol and can be either + to add a permission level or - to remove a permission level. The third character is a letter, which can be one of **r** (make files readable), **w** (make files writeable) or **x**(make files executable). As an example, `chmod g+w file.txt` will make *file.txt* writeable by anyone with group ownership.\n",
        "\n",
        "Setting file permissions correctly can be important but also takes some getting used to. As with anything related to the command line, practice is key.\n",
        "\n",
        "**which, history, less, echo**\n",
        "\n",
        "In this section of the course, you will learn about the following Linux commands: ***which, history, less and echo***.\n",
        "\n",
        "In the video, Martin explains how you can use Ctrl+A and Ctrl+E to move your cursor in the terminal, how to use of wild cards (*) to select multiple files, how to redirect standard output to files, how to append information to files, and how to use the \"|\" symbol.\n",
        "\n",
        "Terminal specific commands are relevant for after you are done with using this Google Colab."
      ],
      "metadata": {
        "id": "Apaj3meYZ_v4"
      }
    },
    {
      "cell_type": "code",
      "source": [
        "from IPython.display import YouTubeVideo\n",
        "\n",
        "YouTubeVideo('uj5E2l-euco', width=640, height=480)"
      ],
      "metadata": {
        "colab": {
          "base_uri": "https://localhost:8080/",
          "height": 501
        },
        "id": "P8idHR_lbaqS",
        "outputId": "a8c67ae3-3c46-4c82-a672-691d26e5d882"
      },
      "execution_count": null,
      "outputs": [
        {
          "output_type": "execute_result",
          "data": {
            "text/plain": [
              "<IPython.lib.display.YouTubeVideo at 0x7b1a8dbac110>"
            ],
            "text/html": [
              "\n",
              "        <iframe\n",
              "            width=\"640\"\n",
              "            height=\"480\"\n",
              "            src=\"https://www.youtube.com/embed/uj5E2l-euco\"\n",
              "            frameborder=\"0\"\n",
              "            allowfullscreen\n",
              "            \n",
              "        ></iframe>\n",
              "        "
            ],
            "image/jpeg": "[encoded data removed]"
          },
          "metadata": {},
          "execution_count": 8
        }
      ]
    },
    {
      "cell_type": "markdown",
      "source": [
        "**cat, less, head and tail**\n",
        "\n",
        "Here are some commands you can use to display the file contents: ***cat, less, head and tail***.\n",
        "\n",
        "\n",
        "Navigate to the `basic_linux` folder using the `cd` (change directory) command. Check the `Diamonds.csv` file is in the directory using the `ls` command."
      ],
      "metadata": {
        "id": "XwxSf5X0cDHb"
      }
    },
    {
      "cell_type": "code",
      "source": [
        "cd /content/basic_linux/"
      ],
      "metadata": {
        "id": "A7g_sQnFdYMV"
      },
      "execution_count": null,
      "outputs": []
    },
    {
      "cell_type": "code",
      "source": [
        "ls"
      ],
      "metadata": {
        "id": "tAQrUHKZdHjF"
      },
      "execution_count": null,
      "outputs": []
    },
    {
      "cell_type": "markdown",
      "source": [
        "To display the contents of Diamonds.csv, type `cat Diamonds.csv` This will output more content than the screen can display."
      ],
      "metadata": {
        "id": "NdD0jTdEdRuz"
      }
    },
    {
      "cell_type": "code",
      "source": [
        "!cat Diamonds.csv"
      ],
      "metadata": {
        "id": "ivspbERVdM0i"
      },
      "execution_count": null,
      "outputs": []
    },
    {
      "cell_type": "markdown",
      "source": [
        "**less**\n",
        "\n",
        "If you want to look at a very long file then use the `less` command, as it will display one page at a time. You can then scroll up and down through the file."
      ],
      "metadata": {
        "id": "IcsXI8u5dgYt"
      }
    },
    {
      "cell_type": "code",
      "source": [
        "!less Diamonds.csv"
      ],
      "metadata": {
        "id": "09DOleOAdiZ0"
      },
      "execution_count": null,
      "outputs": []
    },
    {
      "cell_type": "markdown",
      "source": [
        "***head and tail***\n",
        "\n",
        "Sometimes you just want a quick look at the beginning or end of a file. This is useful for getting a sense of the contents of very large files, and for seeing the latest additions to things like logs that routinely have new data appended to them."
      ],
      "metadata": {
        "id": "vgPtQl_mdlNn"
      }
    },
    {
      "cell_type": "code",
      "source": [
        "!head Diamonds.csv"
      ],
      "metadata": {
        "id": "YpHBj6ecdsPy"
      },
      "execution_count": null,
      "outputs": []
    },
    {
      "cell_type": "markdown",
      "source": [
        "To display the bottom of the Diamonds.csv file"
      ],
      "metadata": {
        "id": "kkfBXK_jdwgK"
      }
    },
    {
      "cell_type": "code",
      "source": [
        "!tail Diamonds.csv"
      ],
      "metadata": {
        "id": "gpAhsgi9dxSW"
      },
      "execution_count": null,
      "outputs": []
    },
    {
      "cell_type": "markdown",
      "source": [
        "To display two lines at the top of the file"
      ],
      "metadata": {
        "id": "0kH0Dbxod2Ix"
      }
    },
    {
      "cell_type": "code",
      "source": [
        "!head -15 Diamonds.csv"
      ],
      "metadata": {
        "id": "Hme8LCkHd2o0"
      },
      "execution_count": null,
      "outputs": []
    },
    {
      "cell_type": "markdown",
      "source": [
        "Conversely, to display two lines at the bottom of the file"
      ],
      "metadata": {
        "id": "0b3CxWOyd5Au"
      }
    },
    {
      "cell_type": "code",
      "source": [
        "!tail -15 Diamonds.csv"
      ],
      "metadata": {
        "id": "8iHrDNTad7PU"
      },
      "execution_count": null,
      "outputs": []
    },
    {
      "cell_type": "markdown",
      "source": [
        "**wc -l, wc -w, wc -c**\n",
        "\n",
        "The UNIX `wc` command is a useful tool for counting the number of lines, words and characters in a file."
      ],
      "metadata": {
        "id": "oJ5tvWTyd_lo"
      }
    },
    {
      "cell_type": "code",
      "source": [
        "!wc Diamonds.csv"
      ],
      "metadata": {
        "id": "pzeMbsb7eBwP"
      },
      "execution_count": null,
      "outputs": []
    },
    {
      "cell_type": "markdown",
      "source": [
        "Separate outputs can be obtained by adding additional parameters:\n",
        "\n",
        "`wc -l` outputs the number of lines in the fruit.txt file i.e. 5\n",
        "\n",
        "`wc -w` outputs the number of words in the fruit.txt file i.e. 5\n",
        "\n",
        "`wc -c` outputs the number of characters in the fruit.txt file i.e. 31\n",
        "\n",
        "Further information on the wc command and its parameters can be found by accessing the following link.\n",
        "\n",
        "[https://linux.die.net/man/1/wc](https://linux.die.net/man/1/wc)"
      ],
      "metadata": {
        "id": "oppNKoSeeIIl"
      }
    },
    {
      "cell_type": "markdown",
      "source": [
        "**sort, uniq**\n",
        "\n",
        "The sort command in Unix/Linux is a powerful tool for sorting lines of text files. Below are the different options for the sort command, accompanied by relevant examples.\n",
        "\n",
        "General Options\n",
        "\n",
        "•\t-f, -ignore-case: Ignore case distinctions in sort comparisons.\n",
        "\n",
        "•\t-r, -reverse: Reverse the result of comparisons.\n",
        "\n",
        "•\t-u, -unique: Output only the first of an equal run.\n",
        "\n",
        "•\t-n, -numeric-sort: Compare according to string numerical value.\n",
        "\n",
        "•\t-h, -human-numeric-sort: Compare according to human-readable numbers (e.g., 1K, 1M).\n",
        "\n",
        "•\t-V, -version-sort: Natural sort of (version) numbers within text.\n",
        "\n",
        "•\t-k, -key=KEYDEF: Sort via a key defined by KEYDEF; multiple -k options allow multiple keys.\n",
        "\n",
        "•\t-t, -field-separator=SEP: Use SEP instead of non-blank to blank transition.\n",
        "\n",
        "•\t-b, -ignore-leading-blanks: Ignore leading blanks.\n",
        "\n",
        "•\t-c, -check, -check=diagnose-first: Check for sorted input; do not sort.\n",
        "\n",
        "•\t-s, -stable: Stabilize sort by disabling last-resort comparison.\n",
        "\n",
        "\n",
        "The `sort` command accepts input from a text-based file and outputs its results to the screen.\n",
        "\n"
      ],
      "metadata": {
        "id": "4hLee_steORv"
      }
    },
    {
      "cell_type": "code",
      "source": [
        "!wget https://raw.githubusercontent.com/WCSCourses/Precourses_DataRepo/refs/heads/main/course_data_2025/linux_googlecolab_data/genes.txt"
      ],
      "metadata": {
        "colab": {
          "base_uri": "https://localhost:8080/"
        },
        "id": "JLffirNdauPv",
        "outputId": "b62b2199-264b-448c-ffff-b4c4a9f2922c"
      },
      "execution_count": null,
      "outputs": [
        {
          "output_type": "stream",
          "name": "stdout",
          "text": [
            "--2025-02-03 16:12:38--  https://raw.githubusercontent.com/WCSCourses/Precourses_DataRepo/refs/heads/main/course_data_2025/linux_googlecolab_data/genes.txt\n",
            "Resolving raw.githubusercontent.com (raw.githubusercontent.com)... 185.199.109.133, 185.199.110.133, 185.199.111.133, ...\n",
            "Connecting to raw.githubusercontent.com (raw.githubusercontent.com)|185.199.109.133|:443... connected.\n",
            "HTTP request sent, awaiting response... 200 OK\n",
            "Length: 24 [text/plain]\n",
            "Saving to: ‘genes.txt’\n",
            "\n",
            "genes.txt           100%[===================>]      24  --.-KB/s    in 0s      \n",
            "\n",
            "2025-02-03 16:12:39 (237 KB/s) - ‘genes.txt’ saved [24/24]\n",
            "\n"
          ]
        }
      ]
    },
    {
      "cell_type": "code",
      "source": [
        "pwd"
      ],
      "metadata": {
        "colab": {
          "base_uri": "https://localhost:8080/",
          "height": 35
        },
        "id": "tlxh6aERa1zy",
        "outputId": "f66afb40-6f11-4c93-fac9-048012ca5681"
      },
      "execution_count": null,
      "outputs": [
        {
          "output_type": "execute_result",
          "data": {
            "text/plain": [
              "'/content'"
            ],
            "application/vnd.google.colaboratory.intrinsic+json": {
              "type": "string"
            }
          },
          "metadata": {},
          "execution_count": 15
        }
      ]
    },
    {
      "cell_type": "code",
      "source": [
        "!cat genes.txt"
      ],
      "metadata": {
        "colab": {
          "base_uri": "https://localhost:8080/"
        },
        "id": "ZnBsc6Hra8Pm",
        "outputId": "9aa45d4e-0401-4e6f-bc8f-fac090b3a93b"
      },
      "execution_count": null,
      "outputs": [
        {
          "output_type": "stream",
          "name": "stdout",
          "text": [
            "GeneC\n",
            "GeneA\n",
            "GeneB\n",
            "GeneA\n"
          ]
        }
      ]
    },
    {
      "cell_type": "markdown",
      "source": [
        "The command below sorts the gene names in a case-insensitive manner (-f) and only keeps unique entries (-u)."
      ],
      "metadata": {
        "id": "7bAe2jDleZ1R"
      }
    },
    {
      "cell_type": "code",
      "source": [
        "!sort -u -f genes.txt"
      ],
      "metadata": {
        "id": "f-0Fb2VreWL_",
        "colab": {
          "base_uri": "https://localhost:8080/"
        },
        "outputId": "be300106-e174-4f45-a210-fa54a8ebe6f1"
      },
      "execution_count": null,
      "outputs": [
        {
          "output_type": "stream",
          "name": "stdout",
          "text": [
            "GeneA\n",
            "GeneB\n",
            "GeneC\n"
          ]
        }
      ]
    },
    {
      "cell_type": "code",
      "source": [
        "!wget https://raw.githubusercontent.com/WCSCourses/Precourses_DataRepo/refs/heads/main/course_data_2025/linux_googlecolab_data/reads_length.txt"
      ],
      "metadata": {
        "colab": {
          "base_uri": "https://localhost:8080/"
        },
        "id": "E2ML8yr4n0EP",
        "outputId": "7dc08074-59fe-4305-ae90-fc82f6101519"
      },
      "execution_count": null,
      "outputs": [
        {
          "output_type": "stream",
          "name": "stdout",
          "text": [
            "--2025-01-28 15:55:08--  https://raw.githubusercontent.com/WCSCourses/Precourses_DataRepo/refs/heads/main/course_data_2025/linux_googlecolab_data/reads_length.txt\n",
            "Resolving raw.githubusercontent.com (raw.githubusercontent.com)... 185.199.108.133, 185.199.109.133, 185.199.110.133, ...\n",
            "Connecting to raw.githubusercontent.com (raw.githubusercontent.com)|185.199.108.133|:443... connected.\n",
            "HTTP request sent, awaiting response... 200 OK\n",
            "Length: 38 [text/plain]\n",
            "Saving to: ‘reads_length.txt’\n",
            "\n",
            "\rreads_length.txt      0%[                    ]       0  --.-KB/s               \rreads_length.txt    100%[===================>]      38  --.-KB/s    in 0s      \n",
            "\n",
            "2025-01-28 15:55:08 (554 KB/s) - ‘reads_length.txt’ saved [38/38]\n",
            "\n"
          ]
        }
      ]
    },
    {
      "cell_type": "code",
      "source": [
        "!cat reads_length.txt"
      ],
      "metadata": {
        "colab": {
          "base_uri": "https://localhost:8080/"
        },
        "id": "HffFq2tCn7Qd",
        "outputId": "07814682-3959-41d6-867f-1767f404378b"
      },
      "execution_count": null,
      "outputs": [
        {
          "output_type": "stream",
          "name": "stdout",
          "text": [
            "Read1 100\n",
            "Read3 50\n",
            "Read2 150\n",
            "Read1 100"
          ]
        }
      ]
    },
    {
      "cell_type": "markdown",
      "source": [
        "The following command sorts by the second column (-k2), treats the sort key as numeric (implied by the context, but -n could be added for clarity), and keeps only unique lines based on the entire line since no specific key is defined for uniqueness (-nu)."
      ],
      "metadata": {
        "id": "zbSeRWgZoI58"
      }
    },
    {
      "cell_type": "code",
      "source": [
        "!sort -nu -k2 reads_length.txt"
      ],
      "metadata": {
        "colab": {
          "base_uri": "https://localhost:8080/"
        },
        "id": "CdaskqjZoAGb",
        "outputId": "965f8800-11c6-4f39-c958-774c9ddd1d8c"
      },
      "execution_count": null,
      "outputs": [
        {
          "output_type": "stream",
          "name": "stdout",
          "text": [
            "Read3 50\n",
            "Read1 100\n",
            "Read2 150\n"
          ]
        }
      ]
    },
    {
      "cell_type": "code",
      "source": [
        "!wget https://raw.githubusercontent.com/WCSCourses/Precourses_DataRepo/refs/heads/main/course_data_2025/linux_googlecolab_data/example.bed"
      ],
      "metadata": {
        "colab": {
          "base_uri": "https://localhost:8080/"
        },
        "id": "Y7hkms5toS6Q",
        "outputId": "47420e47-1faf-43f9-930b-3b9920bcf11f"
      },
      "execution_count": null,
      "outputs": [
        {
          "output_type": "stream",
          "name": "stdout",
          "text": [
            "--2025-01-28 17:36:26--  https://raw.githubusercontent.com/WCSCourses/Precourses_DataRepo/refs/heads/main/course_data_2025/linux_googlecolab_data/example.bed\n",
            "Resolving raw.githubusercontent.com (raw.githubusercontent.com)... 185.199.111.133, 185.199.110.133, 185.199.109.133, ...\n",
            "Connecting to raw.githubusercontent.com (raw.githubusercontent.com)|185.199.111.133|:443... connected.\n",
            "HTTP request sent, awaiting response... 200 OK\n",
            "Length: 32 [text/plain]\n",
            "Saving to: ‘example.bed’\n",
            "\n",
            "example.bed         100%[===================>]      32  --.-KB/s    in 0s      \n",
            "\n",
            "2025-01-28 17:36:26 (588 KB/s) - ‘example.bed’ saved [32/32]\n",
            "\n"
          ]
        }
      ]
    },
    {
      "cell_type": "code",
      "source": [
        "!cat example.bed"
      ],
      "metadata": {
        "colab": {
          "base_uri": "https://localhost:8080/"
        },
        "id": "13Hl4buWohUJ",
        "outputId": "3db59ab0-0d22-4003-bbd9-a9d72c106085"
      },
      "execution_count": null,
      "outputs": [
        {
          "output_type": "stream",
          "name": "stdout",
          "text": [
            "chr2 100\n",
            "chr1 50\n",
            "chr2 20\n",
            "chr1 50"
          ]
        }
      ]
    },
    {
      "cell_type": "markdown",
      "source": [
        "The following code sorts first by the entire first field (-k1,1), then by the second field as numeric (-k2,2n), and keeps only unique entries (-u)."
      ],
      "metadata": {
        "id": "na1E3c-u_IcD"
      }
    },
    {
      "cell_type": "code",
      "source": [
        "!sort -k1,1 -k2,2n -u example.bed"
      ],
      "metadata": {
        "colab": {
          "base_uri": "https://localhost:8080/"
        },
        "id": "MjwxxjSEokXU",
        "outputId": "07f6068c-d1ff-497a-bea6-8afcf4bec74b"
      },
      "execution_count": null,
      "outputs": [
        {
          "output_type": "stream",
          "name": "stdout",
          "text": [
            "chr1 50\n",
            "chr2 20\n",
            "chr2 100\n"
          ]
        }
      ]
    },
    {
      "cell_type": "code",
      "source": [
        "!wget https://raw.githubusercontent.com/WCSCourses/Precourses_DataRepo/refs/heads/main/course_data_2025/linux_googlecolab_data/contigs.txt"
      ],
      "metadata": {
        "colab": {
          "base_uri": "https://localhost:8080/"
        },
        "id": "OUHj_FXA_UZB",
        "outputId": "0e85fd08-53fc-4709-d50f-c28055a33799"
      },
      "execution_count": null,
      "outputs": [
        {
          "output_type": "stream",
          "name": "stdout",
          "text": [
            "--2025-01-28 17:37:56--  https://raw.githubusercontent.com/WCSCourses/Precourses_DataRepo/refs/heads/main/course_data_2025/linux_googlecolab_data/contigs.txt\n",
            "Resolving raw.githubusercontent.com (raw.githubusercontent.com)... 185.199.108.133, 185.199.109.133, 185.199.111.133, ...\n",
            "Connecting to raw.githubusercontent.com (raw.githubusercontent.com)|185.199.108.133|:443... connected.\n",
            "HTTP request sent, awaiting response... 200 OK\n",
            "Length: 49 [text/plain]\n",
            "Saving to: ‘contigs.txt’\n",
            "\n",
            "contigs.txt         100%[===================>]      49  --.-KB/s    in 0s      \n",
            "\n",
            "2025-01-28 17:37:57 (2.69 MB/s) - ‘contigs.txt’ saved [49/49]\n",
            "\n"
          ]
        }
      ]
    },
    {
      "cell_type": "code",
      "source": [
        "!cat contigs.txt"
      ],
      "metadata": {
        "colab": {
          "base_uri": "https://localhost:8080/"
        },
        "id": "Zj2-W_K5_c-J",
        "outputId": "ecc58594-471f-4684-ea90-af9211f17ee9"
      },
      "execution_count": null,
      "outputs": [
        {
          "output_type": "stream",
          "name": "stdout",
          "text": [
            "Contig1 1.5M\n",
            "Contig2 500K\n",
            "Contig3 2M\n",
            "Contig1 1.5M"
          ]
        }
      ]
    },
    {
      "cell_type": "markdown",
      "source": [
        "The following command sorts by the second column in human-readable numeric format (-h -k2) and keeps only unique entries (-u)."
      ],
      "metadata": {
        "id": "x7fr_e9P_zvM"
      }
    },
    {
      "cell_type": "code",
      "source": [
        "!sort -h -k2 -u contigs.txt"
      ],
      "metadata": {
        "colab": {
          "base_uri": "https://localhost:8080/"
        },
        "id": "ZLoa14dR_iwb",
        "outputId": "7b597351-6d4e-46f8-9346-9988d342bea8"
      },
      "execution_count": null,
      "outputs": [
        {
          "output_type": "stream",
          "name": "stdout",
          "text": [
            "Contig2 500K\n",
            "Contig1 1.5M\n",
            "Contig3 2M\n"
          ]
        }
      ]
    },
    {
      "cell_type": "markdown",
      "source": [
        "**How to use uniq**\n",
        "\n",
        "The uniq command accepts input from a text-based file and removes any repeated lines, only if they are adjacent to each other. That's why it's used in conjunction with sort to remove non-adjacent lines."
      ],
      "metadata": {
        "id": "YAmBuOEUhm6S"
      }
    },
    {
      "cell_type": "code",
      "source": [
        "!sort Diamonds.csv | uniq"
      ],
      "metadata": {
        "id": "rJnOHmxzhsDQ"
      },
      "execution_count": null,
      "outputs": []
    },
    {
      "cell_type": "markdown",
      "source": [
        "Case differences can be ignored when dropping duplicate adjacent lines, using the -i option."
      ],
      "metadata": {
        "id": "FfR68TRkhtx9"
      }
    },
    {
      "cell_type": "code",
      "source": [
        "!sort Diamonds.csv | uniq -i"
      ],
      "metadata": {
        "id": "l3K_0tdihvyy"
      },
      "execution_count": null,
      "outputs": []
    },
    {
      "cell_type": "markdown",
      "source": [
        "Combining `-i` with the `-c` option for `uniq`, counts the number of times a line occurs in a file."
      ],
      "metadata": {
        "id": "YpmhKN5VhxSi"
      }
    },
    {
      "cell_type": "code",
      "source": [
        "!sort Diamonds.csv | uniq -ic"
      ],
      "metadata": {
        "id": "Ah9T5LYxhzai"
      },
      "execution_count": null,
      "outputs": []
    },
    {
      "cell_type": "markdown",
      "source": [
        "Using the `-d` option with `-i` inverts the behaviour of uniq and only prints the duplicated lines."
      ],
      "metadata": {
        "id": "avmP8Qwyh1Ny"
      }
    },
    {
      "cell_type": "code",
      "source": [
        "!sort Diamonds.csv | uniq -id"
      ],
      "metadata": {
        "id": "do-CWmNDh2xX"
      },
      "execution_count": null,
      "outputs": []
    },
    {
      "cell_type": "markdown",
      "source": [
        "It can be helpful to pipe this output into the input of another uniq command."
      ],
      "metadata": {
        "id": "FeMl52X5h4OC"
      }
    },
    {
      "cell_type": "code",
      "source": [
        "!sort Diamonds.csv | uniq -id | uniq -f 1"
      ],
      "metadata": {
        "id": "5RWEe9cYh6A8"
      },
      "execution_count": null,
      "outputs": []
    },
    {
      "cell_type": "markdown",
      "source": [
        "This will list the unique names from Diamonds.csv (uniq -id). This output is then piped to `uniq -f 1` which ignores the first field in each input line when doing comparisons (`-f 1` equals the first field).\n",
        "\n",
        "For more on sort and uniq visit [https://www.linode.com/docs/guides/manipulate-lists-with-sort-and-uniq/](https://www.linode.com/docs/guides/manipulate-lists-with-sort-and-uniq/)\n",
        "\n",
        "\n",
        "**grep**\n",
        "\n",
        "One thing we often need to do is check whether a particular file or set of files contains a string of characters.\n",
        "\n",
        "This process is known as pattern matching. Using the command line, this is done with a command called `grep`. The name derives from the old Unix editor, ed, and stands for “*globally search for a regular expression and print matching lines*”. A regular expression is a string of characters defining a search pattern. Regular expressions can become incredibly complex, involving any number of special characters, short cuts and groupings so, for now, we will deal only with searches involving plain text.\n",
        "\n",
        "At its most simple, grep is run like this on a single file:\n",
        "\n",
        "`grep -F querystring filename.txt`\n",
        "\n",
        "As output, it displays a line by line list of all lines containing the text querystring. Please note that if the query string includes space characters, quotes should be placed at either end of it. Additionally, the **-F** option signifies that we are searching for fixed strings rather than regular expressions. This can be omitted by advanced users searching for complicated regular expressions.\n",
        "\n",
        "Grep has many command line options to refine searches and change the output format.\n",
        "\n",
        "\n",
        "General Options\n",
        "•\t`-i, -ignore-case`: Perform case-insensitive matching.\n",
        "\n",
        "•\t`-v, -invert-match`: Invert the sense of matching, to select non-matching lines.\n",
        "\n",
        "•\t`-x, -line-regexp`: Select only matches that exactly match the whole line.\n",
        "\n",
        "•\t`-w, -word-regexp`: Select only matches for whole words.\n",
        "\n",
        "•\t`-c, -count`: Print only a count of matching lines per file.\n",
        "\n",
        "•\t`-l, -files-with-matches`: Print only the names of files containing matches.\n",
        "\n",
        "•\t`-L, -files-without-match`: Print only the names of files without matches.\n",
        "\n",
        "•\t`-n, -line-number`: Prefix each line of output with the line number within its input file.\n",
        "\n",
        "•\t`-o, -only-matching`: Print only the matched (non-empty) parts of a matching line.\n",
        "\n",
        "•\t`-q, -quiet, -silent`: Suppress all normal output (quiet).\n",
        "\n",
        "•\t`-r, -recursive`: Read all files under each directory, recursively.\n",
        "\n",
        "•\t`-s, -no-messages`: Suppress error messages.\n",
        "\n",
        "•\t`-E, -extended-regexp`: Interpret PATTERN as an extended regular expression (ERE).\n",
        "\n",
        "•\t`-F, -fixed-strings`: Interpret PATTERN as a list of fixed strings, separated by newlines, any of which is to be matched.\n",
        "\n",
        "•\t`-P, -perl-regexp`: Interpret PATTERN as a Perl regular expression (PCRE).\n",
        "\n",
        "•\t`-z, -null-data`: Treat the input as a set of null-delimited items.\n",
        "\n",
        "Examples:\n",
        "\n",
        "Finding specific gene names in a GTF file:"
      ],
      "metadata": {
        "id": "1fe5MEokh8bJ"
      }
    },
    {
      "cell_type": "markdown",
      "source": [
        "How to use **grep -w**"
      ],
      "metadata": {
        "id": "Zc_N6wfrMB4M"
      }
    },
    {
      "cell_type": "code",
      "source": [
        "!wget https://raw.githubusercontent.com/WCSCourses/Precourses_DataRepo/refs/heads/main/course_data_2025/linux_googlecolab_data/genes.gtf"
      ],
      "metadata": {
        "id": "F_EMIs5TTqVs",
        "colab": {
          "base_uri": "https://localhost:8080/"
        },
        "outputId": "36531483-ca84-495f-83e6-38694441736d"
      },
      "execution_count": null,
      "outputs": [
        {
          "output_type": "stream",
          "name": "stdout",
          "text": [
            "--2025-01-28 17:44:20--  https://raw.githubusercontent.com/WCSCourses/Precourses_DataRepo/refs/heads/main/course_data_2025/linux_googlecolab_data/genes.gtf\n",
            "Resolving raw.githubusercontent.com (raw.githubusercontent.com)... 185.199.110.133, 185.199.109.133, 185.199.108.133, ...\n",
            "Connecting to raw.githubusercontent.com (raw.githubusercontent.com)|185.199.110.133|:443... connected.\n",
            "HTTP request sent, awaiting response... 200 OK\n",
            "Length: 386 [text/plain]\n",
            "Saving to: ‘genes.gtf’\n",
            "\n",
            "genes.gtf           100%[===================>]     386  --.-KB/s    in 0s      \n",
            "\n",
            "2025-01-28 17:44:20 (7.34 MB/s) - ‘genes.gtf’ saved [386/386]\n",
            "\n"
          ]
        }
      ]
    },
    {
      "cell_type": "code",
      "source": [
        "!cat genes.gtf"
      ],
      "metadata": {
        "id": "5L_HTbS3ULw6",
        "colab": {
          "base_uri": "https://localhost:8080/"
        },
        "outputId": "23119bfe-6fd6-4545-d823-c026dd8807ce"
      },
      "execution_count": null,
      "outputs": [
        {
          "output_type": "stream",
          "name": "stdout",
          "text": [
            "chr1    ensembl  gene    11873   12227  .       +      .       gene_id \"ENSG00000223972\"; gene_version \"5\"; gene_name \"DDX11L1\";\n",
            "chr1    ensembl  gene    12612   13261  .       +      .       gene_id \"ENSG00000227232\"; gene_version \"5\"; gene_name \"WASH7P\";\n",
            "chr2    ensembl  gene    22412   22561  .       +      .       other_id \"ENSG00000227233\"; gene_version \"5\"; other_name \"HGSH5G\";"
          ]
        }
      ]
    },
    {
      "cell_type": "markdown",
      "source": [
        "The following command searches for lines containing the whole word “gene_name” (-w)."
      ],
      "metadata": {
        "id": "viheDJOzUcRG"
      }
    },
    {
      "cell_type": "code",
      "source": [
        "!grep -w \"gene_name\" genes.gtf"
      ],
      "metadata": {
        "id": "f5DWbGMxUnXX",
        "colab": {
          "base_uri": "https://localhost:8080/"
        },
        "outputId": "9092aee9-e234-4e25-9970-7fc6e92d1d37"
      },
      "execution_count": null,
      "outputs": [
        {
          "output_type": "stream",
          "name": "stdout",
          "text": [
            "chr1    ensembl  gene    11873   12227  .       +      .       gene_id \"ENSG00000223972\"; gene_version \"5\"; gene_name \"DDX11L1\";\n",
            "chr1    ensembl  gene    12612   13261  .       +      .       gene_id \"ENSG00000227232\"; gene_version \"5\"; gene_name \"WASH7P\";\n"
          ]
        }
      ]
    },
    {
      "cell_type": "markdown",
      "source": [
        "How to use **grep -c**"
      ],
      "metadata": {
        "id": "Dw_MHt0mLrGx"
      }
    },
    {
      "cell_type": "code",
      "source": [
        "!wget https://raw.githubusercontent.com/WCSCourses/Precourses_DataRepo/refs/heads/main/course_data_2025/linux_googlecolab_data/aligned_reads.sam"
      ],
      "metadata": {
        "colab": {
          "base_uri": "https://localhost:8080/"
        },
        "id": "EoWahW3RBj0s",
        "outputId": "5e96e085-bd63-4e53-b5e9-27510aecb68f"
      },
      "execution_count": null,
      "outputs": [
        {
          "output_type": "stream",
          "name": "stdout",
          "text": [
            "--2025-01-28 18:29:20--  https://raw.githubusercontent.com/WCSCourses/Precourses_DataRepo/refs/heads/main/course_data_2025/linux_googlecolab_data/aligned_reads.sam\n",
            "Resolving raw.githubusercontent.com (raw.githubusercontent.com)... 185.199.108.133, 185.199.109.133, 185.199.110.133, ...\n",
            "Connecting to raw.githubusercontent.com (raw.githubusercontent.com)|185.199.108.133|:443... connected.\n",
            "HTTP request sent, awaiting response... 200 OK\n",
            "Length: 203 [text/plain]\n",
            "Saving to: ‘aligned_reads.sam’\n",
            "\n",
            "\raligned_reads.sam     0%[                    ]       0  --.-KB/s               \raligned_reads.sam   100%[===================>]     203  --.-KB/s    in 0s      \n",
            "\n",
            "2025-01-28 18:29:20 (7.35 MB/s) - ‘aligned_reads.sam’ saved [203/203]\n",
            "\n"
          ]
        }
      ]
    },
    {
      "cell_type": "code",
      "source": [
        "!cat aligned_reads.sam"
      ],
      "metadata": {
        "colab": {
          "base_uri": "https://localhost:8080/"
        },
        "id": "uVFlfR4PBw97",
        "outputId": "e6187089-36c2-4826-eddf-7fda8c88c1aa"
      },
      "execution_count": null,
      "outputs": [
        {
          "output_type": "stream",
          "name": "stdout",
          "text": [
            "Read1   0       chr1    100     60      8M      =       150     -30\n",
            "Read2   16      chr2    5000    0       9M      =       5100    131\n",
            "Read3   0       chr1    120     60      7M      =       170     -40"
          ]
        }
      ]
    },
    {
      "cell_type": "markdown",
      "source": [
        "The following command counts the number of reads mapping to a specific chromosome in a SAM file. It counts (-c) the lines that start with any characters (^.*) followed by “chr1\", to target the chromosome column specifically."
      ],
      "metadata": {
        "id": "jOv4yifYBQ01"
      }
    },
    {
      "cell_type": "code",
      "source": [
        "!grep -c \"^.*chr1\" aligned_reads.sam"
      ],
      "metadata": {
        "colab": {
          "base_uri": "https://localhost:8080/"
        },
        "id": "l8swdoLYBdOJ",
        "outputId": "18cbc53a-6aeb-4813-935b-b6678fc2930c"
      },
      "execution_count": null,
      "outputs": [
        {
          "output_type": "stream",
          "name": "stdout",
          "text": [
            "2\n"
          ]
        }
      ]
    },
    {
      "cell_type": "markdown",
      "source": [
        "How to use **grep -E**"
      ],
      "metadata": {
        "id": "lfzdrXeMMQ6O"
      }
    },
    {
      "cell_type": "code",
      "source": [
        "!wget https://raw.githubusercontent.com/WCSCourses/Precourses_DataRepo/refs/heads/main/course_data_2025/linux_googlecolab_data/pfam_annotations.txt"
      ],
      "metadata": {
        "colab": {
          "base_uri": "https://localhost:8080/"
        },
        "id": "0FEt4SHTCovA",
        "outputId": "205977c3-8323-4bb1-db2a-716055f2acfc"
      },
      "execution_count": null,
      "outputs": [
        {
          "output_type": "stream",
          "name": "stdout",
          "text": [
            "--2025-01-28 18:30:22--  https://raw.githubusercontent.com/WCSCourses/Precourses_DataRepo/refs/heads/main/course_data_2025/linux_googlecolab_data/pfam_annotations.txt\n",
            "Resolving raw.githubusercontent.com (raw.githubusercontent.com)... 185.199.108.133, 185.199.109.133, 185.199.110.133, ...\n",
            "Connecting to raw.githubusercontent.com (raw.githubusercontent.com)|185.199.108.133|:443... connected.\n",
            "HTTP request sent, awaiting response... 200 OK\n",
            "Length: 90 [text/plain]\n",
            "Saving to: ‘pfam_annotations.txt.1’\n",
            "\n",
            "\rpfam_annotations.tx   0%[                    ]       0  --.-KB/s               \rpfam_annotations.tx 100%[===================>]      90  --.-KB/s    in 0s      \n",
            "\n",
            "2025-01-28 18:30:22 (4.59 MB/s) - ‘pfam_annotations.txt.1’ saved [90/90]\n",
            "\n"
          ]
        }
      ]
    },
    {
      "cell_type": "code",
      "source": [
        "cat pfam_annotations.txt"
      ],
      "metadata": {
        "colab": {
          "base_uri": "https://localhost:8080/"
        },
        "id": "AKUhM6ZiCy6c",
        "outputId": "d5c37e06-f919-4f4a-a78c-0543767c03cc"
      },
      "execution_count": null,
      "outputs": [
        {
          "output_type": "stream",
          "name": "stdout",
          "text": [
            "Protein1  PF00001  5KD  1-70\n",
            "Protein2  PF00002  ABC  10-150\n",
            "Protein3  PF00003  7KD  20-100"
          ]
        }
      ]
    },
    {
      "cell_type": "markdown",
      "source": [
        "The following command finds proteins with a specific domain in a Pfam annotation file. The command uses extended regular expressions (-E) to find lines containing either “PF00001” or “7KD”."
      ],
      "metadata": {
        "id": "f0_XVmHhChGb"
      }
    },
    {
      "cell_type": "code",
      "source": [
        "!grep -E \"PF00001|7KD\" pfam_annotations.txt"
      ],
      "metadata": {
        "colab": {
          "base_uri": "https://localhost:8080/"
        },
        "id": "wJL-RWRZDGAY",
        "outputId": "a6354cbf-b41f-487e-e907-07e478cb1e49"
      },
      "execution_count": null,
      "outputs": [
        {
          "output_type": "stream",
          "name": "stdout",
          "text": [
            "Protein1  PF00001  5KD  1-70\n",
            "Protein3  PF00003  7KD  20-100\n"
          ]
        }
      ]
    },
    {
      "cell_type": "markdown",
      "source": [
        "How to use **grep -B1**"
      ],
      "metadata": {
        "id": "HqQ9_BLtMZUI"
      }
    },
    {
      "cell_type": "code",
      "source": [
        "!wget https://raw.githubusercontent.com/WCSCourses/Precourses_DataRepo/refs/heads/main/course_data_2025/linux_googlecolab_data/sequences.fasta"
      ],
      "metadata": {
        "colab": {
          "base_uri": "https://localhost:8080/"
        },
        "id": "VU8KD-_WDTjS",
        "outputId": "b30ca83b-f082-4bbc-d293-686983ba6d79"
      },
      "execution_count": null,
      "outputs": [
        {
          "output_type": "stream",
          "name": "stdout",
          "text": [
            "--2025-01-28 18:30:34--  https://raw.githubusercontent.com/WCSCourses/Precourses_DataRepo/refs/heads/main/course_data_2025/linux_googlecolab_data/sequences.fasta\n",
            "Resolving raw.githubusercontent.com (raw.githubusercontent.com)... 185.199.109.133, 185.199.108.133, 185.199.111.133, ...\n",
            "Connecting to raw.githubusercontent.com (raw.githubusercontent.com)|185.199.109.133|:443... connected.\n",
            "HTTP request sent, awaiting response... 200 OK\n",
            "Length: 48 [text/plain]\n",
            "Saving to: ‘sequences.fasta.1’\n",
            "\n",
            "\rsequences.fasta.1     0%[                    ]       0  --.-KB/s               \rsequences.fasta.1   100%[===================>]      48  --.-KB/s    in 0s      \n",
            "\n",
            "2025-01-28 18:30:34 (840 KB/s) - ‘sequences.fasta.1’ saved [48/48]\n",
            "\n"
          ]
        }
      ]
    },
    {
      "cell_type": "code",
      "source": [
        "!cat sequences.fasta"
      ],
      "metadata": {
        "colab": {
          "base_uri": "https://localhost:8080/"
        },
        "id": "l1uTHBXsDY1u",
        "outputId": "1e2f2e6b-1130-4b5c-d037-3eef179e112d"
      },
      "execution_count": null,
      "outputs": [
        {
          "output_type": "stream",
          "name": "stdout",
          "text": [
            ">Seq1\n",
            "ATCGATCGTGA\n",
            ">Seq2\n",
            "ATCGNATCG\n",
            ">Seq3\n",
            "ATCGATCG"
          ]
        }
      ]
    },
    {
      "cell_type": "markdown",
      "source": [
        "The following command can be used for extracting only the IDs of sequences containing a specific motif from a FASTA file. The command will finds lines containing “ATCGATCG”, includes the preceding line (-B1) which should be the sequence ID starting with “>”, and then pipes the output to another grep to only keep those lines starting with “>”."
      ],
      "metadata": {
        "id": "Lekl3TctDc3H"
      }
    },
    {
      "cell_type": "code",
      "source": [
        "!grep -B1 \"ATCGATCG\" sequences.fasta | grep \"^>\""
      ],
      "metadata": {
        "colab": {
          "base_uri": "https://localhost:8080/"
        },
        "id": "6bNxi247DvEo",
        "outputId": "ef705f0d-8bb8-48ac-8492-a45b3b0254f9"
      },
      "execution_count": null,
      "outputs": [
        {
          "output_type": "stream",
          "name": "stdout",
          "text": [
            ">Seq1\n",
            ">Seq3\n"
          ]
        }
      ]
    },
    {
      "cell_type": "markdown",
      "source": [
        "How to use **grep -i**"
      ],
      "metadata": {
        "id": "yM39eqhPMeL-"
      }
    },
    {
      "cell_type": "code",
      "source": [
        "!wget https://raw.githubusercontent.com/WCSCourses/Precourses_DataRepo/refs/heads/main/course_data_2025/linux_googlecolab_data/amplicon_sequences.fasta"
      ],
      "metadata": {
        "colab": {
          "base_uri": "https://localhost:8080/"
        },
        "id": "yLp0UQOoD6EX",
        "outputId": "01dbc7d6-be84-43d9-84f7-bcfe8b0ff92c"
      },
      "execution_count": null,
      "outputs": [
        {
          "output_type": "stream",
          "name": "stdout",
          "text": [
            "--2025-01-28 18:30:45--  https://raw.githubusercontent.com/WCSCourses/Precourses_DataRepo/refs/heads/main/course_data_2025/linux_googlecolab_data/amplicon_sequences.fasta\n",
            "Resolving raw.githubusercontent.com (raw.githubusercontent.com)... 185.199.108.133, 185.199.109.133, 185.199.110.133, ...\n",
            "Connecting to raw.githubusercontent.com (raw.githubusercontent.com)|185.199.108.133|:443... connected.\n",
            "HTTP request sent, awaiting response... 200 OK\n",
            "Length: 55 [text/plain]\n",
            "Saving to: ‘amplicon_sequences.fasta.1’\n",
            "\n",
            "\r          amplicon_   0%[                    ]       0  --.-KB/s               \ramplicon_sequences. 100%[===================>]      55  --.-KB/s    in 0s      \n",
            "\n",
            "2025-01-28 18:30:45 (2.02 MB/s) - ‘amplicon_sequences.fasta.1’ saved [55/55]\n",
            "\n"
          ]
        }
      ]
    },
    {
      "cell_type": "code",
      "source": [
        "!cat amplicon_sequences.fasta"
      ],
      "metadata": {
        "colab": {
          "base_uri": "https://localhost:8080/"
        },
        "id": "VVVF1cDBEAKi",
        "outputId": "43d26ffa-5485-4c70-f7fe-b83d37852a5d"
      },
      "execution_count": null,
      "outputs": [
        {
          "output_type": "stream",
          "name": "stdout",
          "text": [
            ">Seq1\n",
            "TGCGATCGATCG\n",
            ">Seq2\n",
            "ATCGATCGNAT\n",
            ">Seq3\n",
            "TGCGATCGATCG"
          ]
        }
      ]
    },
    {
      "cell_type": "markdown",
      "source": [
        "The following command searches for a specific primer sequence in a file of amplicon sequences. The command performs a case-insensitive (-i) search for the primer sequence “tgcgatcgatcg”."
      ],
      "metadata": {
        "id": "zBzrni1EEG3p"
      }
    },
    {
      "cell_type": "code",
      "source": [
        "!grep -i \"tgcgatcgatcg\" amplicon_sequences.fasta"
      ],
      "metadata": {
        "colab": {
          "base_uri": "https://localhost:8080/"
        },
        "id": "jFqe9t7KEWSm",
        "outputId": "3e1db27c-1328-43f6-e960-6e81a2368f81"
      },
      "execution_count": null,
      "outputs": [
        {
          "output_type": "stream",
          "name": "stdout",
          "text": [
            "TGCGATCGATCG\n",
            "TGCGATCGATCG\n"
          ]
        }
      ]
    },
    {
      "cell_type": "markdown",
      "source": [
        "**SED command**\n",
        "\n",
        "\n",
        "The **sed** command in Unix or Linux is a stream editor commonly used for text processing and manipulation. It is beneficial for performing find-and-replace operations, as well as other types of editing tasks on text files. Here are some of the different options (also known as commands or flags) available in **sed**, along with examples.\n",
        "\n",
        "1.\tSubstitution (s command): This is the most commonly used sed command. It allows you to find and replace text patterns in a file.\n"
      ],
      "metadata": {
        "id": "h29J0q4XElFP"
      }
    },
    {
      "cell_type": "markdown",
      "source": [
        "Retrieve the file *input_file.fasta*"
      ],
      "metadata": {
        "id": "7D5Y1gxeMlKc"
      }
    },
    {
      "cell_type": "code",
      "source": [
        "!wget https://raw.githubusercontent.com/WCSCourses/Precourses_DataRepo/refs/heads/main/course_data_2025/linux_googlecolab_data/input_file.fasta"
      ],
      "metadata": {
        "colab": {
          "base_uri": "https://localhost:8080/"
        },
        "id": "HhYWidDGE6vb",
        "outputId": "aa79eeb9-1fc9-4a06-d8ff-cb0d26371e0f"
      },
      "execution_count": null,
      "outputs": [
        {
          "output_type": "stream",
          "name": "stdout",
          "text": [
            "--2025-01-28 18:37:21--  https://raw.githubusercontent.com/WCSCourses/Precourses_DataRepo/refs/heads/main/course_data_2025/linux_googlecolab_data/input_file.fasta\n",
            "Resolving raw.githubusercontent.com (raw.githubusercontent.com)... 185.199.108.133, 185.199.109.133, 185.199.110.133, ...\n",
            "Connecting to raw.githubusercontent.com (raw.githubusercontent.com)|185.199.108.133|:443... connected.\n",
            "HTTP request sent, awaiting response... 200 OK\n",
            "Length: 71 [text/plain]\n",
            "Saving to: ‘input_file.fasta’\n",
            "\n",
            "input_file.fasta    100%[===================>]      71  --.-KB/s    in 0s      \n",
            "\n",
            "2025-01-28 18:37:21 (1.13 MB/s) - ‘input_file.fasta’ saved [71/71]\n",
            "\n"
          ]
        }
      ]
    },
    {
      "cell_type": "code",
      "source": [
        "!cat input_file.fasta"
      ],
      "metadata": {
        "colab": {
          "base_uri": "https://localhost:8080/"
        },
        "id": "VO0y4lm6Mrqc",
        "outputId": "6fe9d61d-0215-4eb1-b4da-b32846bd3513"
      },
      "execution_count": null,
      "outputs": [
        {
          "output_type": "stream",
          "name": "stdout",
          "text": [
            "old_sequence\n",
            "some_serquence\n",
            "old_sequence\n",
            "some_serquence\n",
            "some_serquence\n"
          ]
        }
      ]
    },
    {
      "cell_type": "markdown",
      "source": [
        "This command replaces all sequence occurrences “old_sequence” with “new_sequence” in the input FASTA file and saves the result to an output file."
      ],
      "metadata": {
        "id": "PkaPnuAbF1jB"
      }
    },
    {
      "cell_type": "code",
      "source": [
        "!sed 's/old_sequence/new_sequence/g' input_file.fasta > output_file.fasta"
      ],
      "metadata": {
        "id": "fuIyuB0_FLxR"
      },
      "execution_count": null,
      "outputs": []
    },
    {
      "cell_type": "markdown",
      "source": [
        "Check the output:"
      ],
      "metadata": {
        "id": "kMpviqK4FbyA"
      }
    },
    {
      "cell_type": "code",
      "source": [
        "!cat input_file.fasta"
      ],
      "metadata": {
        "colab": {
          "base_uri": "https://localhost:8080/"
        },
        "id": "pu8Z_8_aFUhE",
        "outputId": "feca3c47-01e5-4ff4-bc27-e381e1f630da"
      },
      "execution_count": null,
      "outputs": [
        {
          "output_type": "stream",
          "name": "stdout",
          "text": [
            "old_sequence\n",
            "some_serquence\n",
            "old_sequence\n",
            "some_serquence\n",
            "some_serquence\n"
          ]
        }
      ]
    },
    {
      "cell_type": "code",
      "source": [
        "!cat output_file.fasta"
      ],
      "metadata": {
        "colab": {
          "base_uri": "https://localhost:8080/"
        },
        "id": "dK15J6p6FYLG",
        "outputId": "71404baa-abea-43f6-8056-33aa303f2993"
      },
      "execution_count": null,
      "outputs": [
        {
          "output_type": "stream",
          "name": "stdout",
          "text": [
            "new_sequence\n",
            "some_serquence\n",
            "new_sequence\n",
            "some_serquence\n",
            "some_serquence\n"
          ]
        }
      ]
    },
    {
      "cell_type": "markdown",
      "source": [
        "2.\tGlobal substitution (g flag): By default, the s command replaces only the first occurrence on each line. To replace all occurrences on each line, use the global (g) flag."
      ],
      "metadata": {
        "id": "K4OfyCm9FqQR"
      }
    },
    {
      "cell_type": "code",
      "source": [
        "!wget https://raw.githubusercontent.com/WCSCourses/Precourses_DataRepo/refs/heads/main/course_data_2025/linux_googlecolab_data/input_sequence.txt"
      ],
      "metadata": {
        "colab": {
          "base_uri": "https://localhost:8080/"
        },
        "id": "-OU46aWMFs-v",
        "outputId": "0b397599-df01-440f-c5f9-a1f005e72203"
      },
      "execution_count": null,
      "outputs": [
        {
          "output_type": "stream",
          "name": "stdout",
          "text": [
            "--2025-01-28 18:39:45--  https://raw.githubusercontent.com/WCSCourses/Precourses_DataRepo/refs/heads/main/course_data_2025/linux_googlecolab_data/input_sequence.txt\n",
            "Resolving raw.githubusercontent.com (raw.githubusercontent.com)... 185.199.108.133, 185.199.111.133, 185.199.110.133, ...\n",
            "Connecting to raw.githubusercontent.com (raw.githubusercontent.com)|185.199.108.133|:443... connected.\n",
            "HTTP request sent, awaiting response... 200 OK\n",
            "Length: 66 [text/plain]\n",
            "Saving to: ‘input_sequence.txt’\n",
            "\n",
            "input_sequence.txt  100%[===================>]      66  --.-KB/s    in 0s      \n",
            "\n",
            "2025-01-28 18:39:45 (885 KB/s) - ‘input_sequence.txt’ saved [66/66]\n",
            "\n"
          ]
        }
      ]
    },
    {
      "cell_type": "code",
      "source": [
        "!cat input_sequence.txt"
      ],
      "metadata": {
        "colab": {
          "base_uri": "https://localhost:8080/"
        },
        "id": "ve943WqeGQk0",
        "outputId": "a35cc50f-9bd7-419c-a6ee-b12fe110d9a9"
      },
      "execution_count": null,
      "outputs": [
        {
          "output_type": "stream",
          "name": "stdout",
          "text": [
            "ATCGNNNNNATCGNNNNATCG\n",
            "NNNNNNNNNNNNNNNNNNNNN\n",
            "ATCGNNNNNATCGNNNNATCG\n"
          ]
        }
      ]
    },
    {
      "cell_type": "markdown",
      "source": [
        " This command replaces all instances of “ATCG” with “GCAT” in the input sequence file."
      ],
      "metadata": {
        "id": "gFOolDqiGDr7"
      }
    },
    {
      "cell_type": "code",
      "source": [
        "!sed 's/ATCG/GCAT/g' input_sequence.txt > output_sequence.txt"
      ],
      "metadata": {
        "id": "iIQqP4aPF94y"
      },
      "execution_count": null,
      "outputs": []
    },
    {
      "cell_type": "code",
      "source": [
        "!cat input_sequence.txt"
      ],
      "metadata": {
        "colab": {
          "base_uri": "https://localhost:8080/"
        },
        "id": "FC84tyVqGiRa",
        "outputId": "7a9b3e0a-bc6b-41bf-8785-e76afb2d3e3d"
      },
      "execution_count": null,
      "outputs": [
        {
          "output_type": "stream",
          "name": "stdout",
          "text": [
            "ATCGNNNNNATCGNNNNATCG\n",
            "NNNNNNNNNNNNNNNNNNNNN\n",
            "ATCGNNNNNATCGNNNNATCG\n"
          ]
        }
      ]
    },
    {
      "cell_type": "code",
      "source": [
        "!cat output_sequence.txt"
      ],
      "metadata": {
        "colab": {
          "base_uri": "https://localhost:8080/"
        },
        "id": "U5WWZIGkGk5c",
        "outputId": "2f70d7af-b08e-4e46-bfef-758fa89c1188"
      },
      "execution_count": null,
      "outputs": [
        {
          "output_type": "stream",
          "name": "stdout",
          "text": [
            "GCATNNNNNGCATNNNNGCAT\n",
            "NNNNNNNNNNNNNNNNNNNNN\n",
            "GCATNNNNNGCATNNNNGCAT\n"
          ]
        }
      ]
    },
    {
      "cell_type": "markdown",
      "source": [
        "3.\tRegular Expressions: sed supports regular expressions, allowing more flexible pattern matching.  \tThis command replaces all occurrences of one or more characters from 'A', 'C', 'T', or 'G' with 'N' in the input sequence file."
      ],
      "metadata": {
        "id": "liWgKeLbGWLA"
      }
    },
    {
      "cell_type": "code",
      "source": [
        "!sed -E 's/[ACTG]+/N/g' input_sequence.txt > output_sequence.txt"
      ],
      "metadata": {
        "id": "JWuQg_QvG0Wy"
      },
      "execution_count": null,
      "outputs": []
    },
    {
      "cell_type": "code",
      "source": [
        "!cat input_sequence.txt"
      ],
      "metadata": {
        "colab": {
          "base_uri": "https://localhost:8080/"
        },
        "id": "Al_wb8-HG57L",
        "outputId": "2a0adfc7-38d5-40c7-9273-1ac142180384"
      },
      "execution_count": null,
      "outputs": [
        {
          "output_type": "stream",
          "name": "stdout",
          "text": [
            "ATCGNNNNNATCGNNNNATCG\n",
            "NNNNNNNNNNNNNNNNNNNNN\n",
            "ATCGNNNNNATCGNNNNATCG\n"
          ]
        }
      ]
    },
    {
      "cell_type": "code",
      "source": [
        "!cat output_sequence.txt"
      ],
      "metadata": {
        "colab": {
          "base_uri": "https://localhost:8080/"
        },
        "id": "RL2t3XqZG7gh",
        "outputId": "77b24f13-1fa5-4a58-9d48-25bc3b2316d1"
      },
      "execution_count": null,
      "outputs": [
        {
          "output_type": "stream",
          "name": "stdout",
          "text": [
            "NNNNNNNNNNNN\n",
            "NNNNNNNNNNNNNNNNNNNNN\n",
            "NNNNNNNNNNNN\n"
          ]
        }
      ]
    },
    {
      "cell_type": "markdown",
      "source": [
        "4.\tLine Addressing: You can specify the line numbers or patterns to apply the sed command only to specific lines."
      ],
      "metadata": {
        "id": "4Fcr9P9lG9qF"
      }
    },
    {
      "cell_type": "code",
      "source": [
        "!wget https://raw.githubusercontent.com/WCSCourses/Precourses_DataRepo/refs/heads/main/course_data_2025/linux_googlecolab_data/input_alignment.fasta"
      ],
      "metadata": {
        "colab": {
          "base_uri": "https://localhost:8080/"
        },
        "id": "asz56LFGHFmA",
        "outputId": "d1e7400f-96f6-4ba3-94a6-e621835c9c2f"
      },
      "execution_count": null,
      "outputs": [
        {
          "output_type": "stream",
          "name": "stdout",
          "text": [
            "--2025-01-28 18:41:55--  https://raw.githubusercontent.com/WCSCourses/Precourses_DataRepo/refs/heads/main/course_data_2025/linux_googlecolab_data/input_alignment.fasta\n",
            "Resolving raw.githubusercontent.com (raw.githubusercontent.com)... 185.199.108.133, 185.199.109.133, 185.199.110.133, ...\n",
            "Connecting to raw.githubusercontent.com (raw.githubusercontent.com)|185.199.108.133|:443... connected.\n",
            "HTTP request sent, awaiting response... 200 OK\n",
            "Length: 156 [text/plain]\n",
            "Saving to: ‘input_alignment.fasta’\n",
            "\n",
            "\rinput_alignment.fas   0%[                    ]       0  --.-KB/s               \rinput_alignment.fas 100%[===================>]     156  --.-KB/s    in 0s      \n",
            "\n",
            "2025-01-28 18:41:55 (6.64 MB/s) - ‘input_alignment.fasta’ saved [156/156]\n",
            "\n"
          ]
        }
      ]
    },
    {
      "cell_type": "code",
      "source": [
        "!cat input_alignment.fasta"
      ],
      "metadata": {
        "colab": {
          "base_uri": "https://localhost:8080/"
        },
        "id": "ybvF7qg8HJln",
        "outputId": "1ebc5381-5005-47bf-cd2b-cd5091e52238"
      },
      "execution_count": null,
      "outputs": [
        {
          "output_type": "stream",
          "name": "stdout",
          "text": [
            "ACTGAACTGAACTGAACTGAACTGA\n",
            "NNNNNNNNNNNNNNNNNNNNNNNNN\n",
            "ACTGAACTGAACTGAACTGAACTGA\n",
            "NNNNNNNNNNNNNNNNNNNNNNNNN\n",
            "ACTGAACTGAACTGAACTGAACTGA\n",
            "NNNNNNNNNNNNNNNNNNNNNNNNN\n"
          ]
        }
      ]
    },
    {
      "cell_type": "markdown",
      "source": [
        "This command deletes the second line from the input alignment file."
      ],
      "metadata": {
        "id": "hnBCfTA_N36e"
      }
    },
    {
      "cell_type": "code",
      "source": [
        "!sed '2d' input_alignment.fasta > output_alignment.fasta"
      ],
      "metadata": {
        "id": "AaMzRhE7HaEE"
      },
      "execution_count": null,
      "outputs": []
    },
    {
      "cell_type": "code",
      "source": [
        "!cat input_alignment.fasta"
      ],
      "metadata": {
        "colab": {
          "base_uri": "https://localhost:8080/"
        },
        "id": "X3sVuaRzHfWR",
        "outputId": "a8c34e4d-6c65-42f8-9d66-3ff68c5fb784"
      },
      "execution_count": null,
      "outputs": [
        {
          "output_type": "stream",
          "name": "stdout",
          "text": [
            "ACTGAACTGAACTGAACTGAACTGA\n",
            "NNNNNNNNNNNNNNNNNNNNNNNNN\n",
            "ACTGAACTGAACTGAACTGAACTGA\n",
            "NNNNNNNNNNNNNNNNNNNNNNNNN\n",
            "ACTGAACTGAACTGAACTGAACTGA\n",
            "NNNNNNNNNNNNNNNNNNNNNNNNN\n"
          ]
        }
      ]
    },
    {
      "cell_type": "code",
      "source": [
        "!cat output_alignment.fasta"
      ],
      "metadata": {
        "colab": {
          "base_uri": "https://localhost:8080/"
        },
        "id": "CpIyCpkQHg8W",
        "outputId": "c5b04369-60ff-4e14-f4cd-c864c2e08cbb"
      },
      "execution_count": null,
      "outputs": [
        {
          "output_type": "stream",
          "name": "stdout",
          "text": [
            "ACTGAACTGAACTGAACTGAACTGA\n",
            "ACTGAACTGAACTGAACTGAACTGA\n",
            "NNNNNNNNNNNNNNNNNNNNNNNNN\n",
            "ACTGAACTGAACTGAACTGAACTGA\n",
            "NNNNNNNNNNNNNNNNNNNNNNNNN\n"
          ]
        }
      ]
    },
    {
      "cell_type": "markdown",
      "source": [
        "5.\tIn-place Editing (-i option): This option allows you to edit the input file directly, without creating a separate output file."
      ],
      "metadata": {
        "id": "P4yJAs5ZHdwJ"
      }
    },
    {
      "cell_type": "code",
      "source": [
        "!wget https://raw.githubusercontent.com/WCSCourses/Precourses_DataRepo/refs/heads/main/course_data_2025/linux_googlecolab_data/input_genome_data.txt"
      ],
      "metadata": {
        "colab": {
          "base_uri": "https://localhost:8080/"
        },
        "id": "dY7GPSGlHsi3",
        "outputId": "19a55b18-b006-472a-bf86-7d0daf17c430"
      },
      "execution_count": null,
      "outputs": [
        {
          "output_type": "stream",
          "name": "stdout",
          "text": [
            "--2025-01-28 18:43:20--  https://raw.githubusercontent.com/WCSCourses/Precourses_DataRepo/refs/heads/main/course_data_2025/linux_googlecolab_data/input_genome_data.txt\n",
            "Resolving raw.githubusercontent.com (raw.githubusercontent.com)... 185.199.108.133, 185.199.109.133, 185.199.110.133, ...\n",
            "Connecting to raw.githubusercontent.com (raw.githubusercontent.com)|185.199.108.133|:443... connected.\n",
            "HTTP request sent, awaiting response... 200 OK\n",
            "Length: 42 [text/plain]\n",
            "Saving to: ‘input_genome_data.txt’\n",
            "\n",
            "\rinput_genome_data.t   0%[                    ]       0  --.-KB/s               \rinput_genome_data.t 100%[===================>]      42  --.-KB/s    in 0s      \n",
            "\n",
            "2025-01-28 18:43:20 (425 KB/s) - ‘input_genome_data.txt’ saved [42/42]\n",
            "\n"
          ]
        }
      ]
    },
    {
      "cell_type": "code",
      "source": [
        "!cat input_genome_data.txt"
      ],
      "metadata": {
        "colab": {
          "base_uri": "https://localhost:8080/"
        },
        "id": "mi2gfu-YHyTu",
        "outputId": "dd112a20-1abd-4c9c-871f-30ff4274418c"
      },
      "execution_count": null,
      "outputs": [
        {
          "output_type": "stream",
          "name": "stdout",
          "text": [
            ">chr1\n",
            "AAAAAAA\n",
            ">chr2\n",
            "TTTTTTT\n",
            ">chr3\n",
            "GGGGGGG\n"
          ]
        }
      ]
    },
    {
      "cell_type": "markdown",
      "source": [
        "This command removes the prefix “chr” from chromosome names in the input genome data file, modifying the file directly."
      ],
      "metadata": {
        "id": "ChRV-xiUH8P8"
      }
    },
    {
      "cell_type": "code",
      "source": [
        "!sed -i 's/chr//g' input_genome_data.txt"
      ],
      "metadata": {
        "id": "kkPWmXCbH8ws"
      },
      "execution_count": null,
      "outputs": []
    },
    {
      "cell_type": "code",
      "source": [
        "!cat input_genome_data.txt"
      ],
      "metadata": {
        "colab": {
          "base_uri": "https://localhost:8080/"
        },
        "id": "KMpEf8FsIDHy",
        "outputId": "4dcfea06-46b2-4a6f-fd82-ba8ba0db07ce"
      },
      "execution_count": null,
      "outputs": [
        {
          "output_type": "stream",
          "name": "stdout",
          "text": [
            ">1\n",
            "AAAAAAA\n",
            ">2\n",
            "TTTTTTT\n",
            ">3\n",
            "GGGGGGG\n"
          ]
        }
      ]
    },
    {
      "cell_type": "markdown",
      "source": [
        "6.\tPrinting specific lines: You can use sed to print specific lines from a file based on line numbers or patterns.  \tThis command prints only the 10th line from the input data file."
      ],
      "metadata": {
        "id": "bDQiyF4kIHr3"
      }
    },
    {
      "cell_type": "code",
      "source": [
        "!wget https://raw.githubusercontent.com/WCSCourses/Precourses_DataRepo/refs/heads/main/course_data_2025/linux_googlecolab_data/input_data.txt"
      ],
      "metadata": {
        "colab": {
          "base_uri": "https://localhost:8080/"
        },
        "id": "N6U7bvKROvXS",
        "outputId": "68347e01-3f9f-4081-e0e3-486b1f241520"
      },
      "execution_count": null,
      "outputs": [
        {
          "output_type": "stream",
          "name": "stdout",
          "text": [
            "--2025-01-28 18:45:14--  https://raw.githubusercontent.com/WCSCourses/Precourses_DataRepo/refs/heads/main/course_data_2025/linux_googlecolab_data/input_data.txt\n",
            "Resolving raw.githubusercontent.com (raw.githubusercontent.com)... 185.199.108.133, 185.199.109.133, 185.199.110.133, ...\n",
            "Connecting to raw.githubusercontent.com (raw.githubusercontent.com)|185.199.108.133|:443... connected.\n",
            "HTTP request sent, awaiting response... 200 OK\n",
            "Length: 160 [text/plain]\n",
            "Saving to: ‘input_data.txt’\n",
            "\n",
            "\rinput_data.txt        0%[                    ]       0  --.-KB/s               \rinput_data.txt      100%[===================>]     160  --.-KB/s    in 0s      \n",
            "\n",
            "2025-01-28 18:45:14 (9.50 MB/s) - ‘input_data.txt’ saved [160/160]\n",
            "\n"
          ]
        }
      ]
    },
    {
      "cell_type": "code",
      "source": [
        "!cat input_data.txt"
      ],
      "metadata": {
        "colab": {
          "base_uri": "https://localhost:8080/"
        },
        "id": "Dzm51aKOO0lC",
        "outputId": "d7aba716-bf12-4e9f-b09c-48c180ee7bff"
      },
      "execution_count": null,
      "outputs": [
        {
          "output_type": "stream",
          "name": "stdout",
          "text": [
            "AAAAAAA\n",
            "CCCCCCC\n",
            "TTTTTTT\n",
            "GGGGGGG\n",
            "AAAAAAA\n",
            "CCCCCCC\n",
            "TTTTTTT\n",
            "GGGGGGG\n",
            "AAAAAAA\n",
            "CCCCCCC\n",
            "TTTTTTT\n",
            "GGGGGGG\n",
            "AAAAAAA\n",
            "CCCCCCC\n",
            "TTTTTTT\n",
            "GGGGGGG\n",
            "AAAAAAA\n",
            "CCCCCCC\n",
            "TTTTTTT\n",
            "GGGGGGG\n"
          ]
        }
      ]
    },
    {
      "cell_type": "code",
      "source": [
        "!sed -n '10p' input_data.txt"
      ],
      "metadata": {
        "colab": {
          "base_uri": "https://localhost:8080/"
        },
        "id": "wV1p-MMlIKGH",
        "outputId": "e8b3a95c-ac8a-4b5f-ee4c-138d7ffb219a"
      },
      "execution_count": null,
      "outputs": [
        {
          "output_type": "stream",
          "name": "stdout",
          "text": [
            "CCCCCCC\n"
          ]
        }
      ]
    },
    {
      "cell_type": "markdown",
      "source": [
        "7.\tMultiple Commands: You can combine multiple sed commands using the -e option.  \tThis command performs two find-and-replace operations on the input FASTA file, replacing “ATCG” with “GCAT” and “TGCA” with “ATGC”."
      ],
      "metadata": {
        "id": "kopyZQ2YIcBn"
      }
    },
    {
      "cell_type": "code",
      "source": [
        "!wget https://raw.githubusercontent.com/WCSCourses/Precourses_DataRepo/refs/heads/main/course_data_2025/linux_googlecolab_data/input_sequences.fasta"
      ],
      "metadata": {
        "colab": {
          "base_uri": "https://localhost:8080/"
        },
        "id": "8JARNLAnIt8S",
        "outputId": "4ed47cc5-a594-4c1d-f549-9333937eece8"
      },
      "execution_count": null,
      "outputs": [
        {
          "output_type": "stream",
          "name": "stdout",
          "text": [
            "--2025-01-28 18:47:15--  https://raw.githubusercontent.com/WCSCourses/Precourses_DataRepo/refs/heads/main/course_data_2025/linux_googlecolab_data/input_sequences.fasta\n",
            "Resolving raw.githubusercontent.com (raw.githubusercontent.com)... 185.199.108.133, 185.199.109.133, 185.199.110.133, ...\n",
            "Connecting to raw.githubusercontent.com (raw.githubusercontent.com)|185.199.108.133|:443... connected.\n",
            "HTTP request sent, awaiting response... 200 OK\n",
            "Length: 68 [text/plain]\n",
            "Saving to: ‘input_sequences.fasta’\n",
            "\n",
            "input_sequences.fas 100%[===================>]      68  --.-KB/s    in 0s      \n",
            "\n",
            "2025-01-28 18:47:16 (2.01 MB/s) - ‘input_sequences.fasta’ saved [68/68]\n",
            "\n"
          ]
        }
      ]
    },
    {
      "cell_type": "code",
      "source": [
        "!cat input_sequences.fasta"
      ],
      "metadata": {
        "colab": {
          "base_uri": "https://localhost:8080/"
        },
        "id": "1EpMU2OUI15V",
        "outputId": "37fe4573-6b2e-453f-a91e-ebdc89e3319c"
      },
      "execution_count": null,
      "outputs": [
        {
          "output_type": "stream",
          "name": "stdout",
          "text": [
            ">chr1\n",
            "AAAAAAAA\n",
            "ATCG\n",
            "TGCA\n",
            "AAAAAAAA\n",
            ">chr2\n",
            "AAAAAAAA\n",
            "ATCG\n",
            "TGCA\n",
            "AAAAAAAA\n"
          ]
        }
      ]
    },
    {
      "cell_type": "code",
      "source": [
        "!sed -e 's/ATCG/GCAT/g' -e 's/TGCA/ATGC/g' input_sequences.fasta > output_sequences.fasta"
      ],
      "metadata": {
        "id": "QOFDKwZtIikn"
      },
      "execution_count": null,
      "outputs": []
    },
    {
      "cell_type": "code",
      "source": [
        "!cat input_sequences.fasta"
      ],
      "metadata": {
        "colab": {
          "base_uri": "https://localhost:8080/"
        },
        "id": "9g9LhDq7IpC5",
        "outputId": "bceafd8d-246b-4466-9d07-234fa72d8664"
      },
      "execution_count": null,
      "outputs": [
        {
          "output_type": "stream",
          "name": "stdout",
          "text": [
            ">chr1\n",
            "AAAAAAAA\n",
            "ATCG\n",
            "TGCA\n",
            "AAAAAAAA\n",
            ">chr2\n",
            "AAAAAAAA\n",
            "ATCG\n",
            "TGCA\n",
            "AAAAAAAA\n"
          ]
        }
      ]
    },
    {
      "cell_type": "code",
      "source": [
        "!cat output_sequences.fasta"
      ],
      "metadata": {
        "colab": {
          "base_uri": "https://localhost:8080/"
        },
        "id": "vfo5y_2VIqvG",
        "outputId": "cbb81c8b-063e-4e33-c8e8-38777ec7b41e"
      },
      "execution_count": null,
      "outputs": [
        {
          "output_type": "stream",
          "name": "stdout",
          "text": [
            ">chr1\n",
            "AAAAAAAA\n",
            "GCAT\n",
            "ATGC\n",
            "AAAAAAAA\n",
            ">chr2\n",
            "AAAAAAAA\n",
            "GCAT\n",
            "ATGC\n",
            "AAAAAAAA\n"
          ]
        }
      ]
    },
    {
      "cell_type": "markdown",
      "source": [
        "8.\tFile Manipulation: sed can be used to manipulate text files, such as adding or removing headers, modifying metadata, or reformatting data.  \tThis command adds the '@' symbol at the beginning of the first line in each FASTQ record."
      ],
      "metadata": {
        "id": "PaFcyS5iI5_4"
      }
    },
    {
      "cell_type": "code",
      "source": [
        "!wget https://raw.githubusercontent.com/WCSCourses/Precourses_DataRepo/refs/heads/main/course_data_2025/linux_googlecolab_data/input_fastq.txt"
      ],
      "metadata": {
        "colab": {
          "base_uri": "https://localhost:8080/"
        },
        "id": "A1LK3wqhJEvW",
        "outputId": "5088b91e-8dba-4477-caf6-b83333b0068e"
      },
      "execution_count": null,
      "outputs": [
        {
          "output_type": "stream",
          "name": "stdout",
          "text": [
            "--2025-01-28 18:48:49--  https://raw.githubusercontent.com/WCSCourses/Precourses_DataRepo/refs/heads/main/course_data_2025/linux_googlecolab_data/input_fastq.txt\n",
            "Resolving raw.githubusercontent.com (raw.githubusercontent.com)... 185.199.108.133, 185.199.109.133, 185.199.110.133, ...\n",
            "Connecting to raw.githubusercontent.com (raw.githubusercontent.com)|185.199.108.133|:443... connected.\n",
            "HTTP request sent, awaiting response... 200 OK\n",
            "Length: 106 [text/plain]\n",
            "Saving to: ‘input_fastq.txt’\n",
            "\n",
            "input_fastq.txt     100%[===================>]     106  --.-KB/s    in 0s      \n",
            "\n",
            "2025-01-28 18:48:49 (4.16 MB/s) - ‘input_fastq.txt’ saved [106/106]\n",
            "\n"
          ]
        }
      ]
    },
    {
      "cell_type": "code",
      "source": [
        "!cat input_fastq.txt"
      ],
      "metadata": {
        "colab": {
          "base_uri": "https://localhost:8080/"
        },
        "id": "Mymgt0YAJE_T",
        "outputId": "885b8b0f-e0e1-49aa-f507-2e150473b41a"
      },
      "execution_count": null,
      "outputs": [
        {
          "output_type": "stream",
          "name": "stdout",
          "text": [
            "@SEQ_ID1\n",
            "AGCTTAGCTAGCTACGATCG\n",
            "+\n",
            "IIIIIIIIIIIIIIIIIIII\n",
            "@SEQ_ID2\n",
            "CGTACGTAGCTAGTACGATC\n",
            "+\n",
            "HHHHHHHHHHHHHHHHHHHH\n"
          ]
        }
      ]
    },
    {
      "cell_type": "code",
      "source": [
        "!sed '1s/^/@/g' input_fastq.txt > output_fastq.txt"
      ],
      "metadata": {
        "id": "_vlthDmOJVXs"
      },
      "execution_count": null,
      "outputs": []
    },
    {
      "cell_type": "code",
      "source": [
        "!cat input_fastq.txt"
      ],
      "metadata": {
        "colab": {
          "base_uri": "https://localhost:8080/"
        },
        "id": "l_X1oyROJYoA",
        "outputId": "9f853e17-95a9-4711-8634-82b40cfa2545"
      },
      "execution_count": null,
      "outputs": [
        {
          "output_type": "stream",
          "name": "stdout",
          "text": [
            "@SEQ_ID1\n",
            "AGCTTAGCTAGCTACGATCG\n",
            "+\n",
            "IIIIIIIIIIIIIIIIIIII\n",
            "@SEQ_ID2\n",
            "CGTACGTAGCTAGTACGATC\n",
            "+\n",
            "HHHHHHHHHHHHHHHHHHHH\n"
          ]
        }
      ]
    },
    {
      "cell_type": "code",
      "source": [
        "!cat output_fastq.txt"
      ],
      "metadata": {
        "colab": {
          "base_uri": "https://localhost:8080/"
        },
        "id": "zPnegNQyJbl_",
        "outputId": "8de6ee4b-0826-401e-86a8-dd10e09e5766"
      },
      "execution_count": null,
      "outputs": [
        {
          "output_type": "stream",
          "name": "stdout",
          "text": [
            "@@SEQ_ID1\n",
            "AGCTTAGCTAGCTACGATCG\n",
            "+\n",
            "IIIIIIIIIIIIIIIIIIII\n",
            "@SEQ_ID2\n",
            "CGTACGTAGCTAGTACGATC\n",
            "+\n",
            "HHHHHHHHHHHHHHHHHHHH\n"
          ]
        }
      ]
    },
    {
      "cell_type": "markdown",
      "source": [
        "9.\tData Cleaning: sed can be used to clean up bioinformatics data by removing unwanted characters, formatting sequences, or filtering out specific patterns."
      ],
      "metadata": {
        "id": "Tu818mFkJdId"
      }
    },
    {
      "cell_type": "code",
      "source": [
        "!cat amplicon_sequences.fasta"
      ],
      "metadata": {
        "colab": {
          "base_uri": "https://localhost:8080/"
        },
        "id": "QONidWkWJjxL",
        "outputId": "228d278d-9a8e-4e4b-edf6-7c48a50439a2"
      },
      "execution_count": null,
      "outputs": [
        {
          "output_type": "stream",
          "name": "stdout",
          "text": [
            ">Seq1\n",
            "TGCGATCGATCG\n",
            ">Seq2\n",
            "ATCGATCGNAT\n",
            ">Seq3\n",
            "TGCGATCGATCG"
          ]
        }
      ]
    },
    {
      "cell_type": "code",
      "source": [
        "!sed '/^>/d' amplicon_sequences.fasta > output_sequences.txt"
      ],
      "metadata": {
        "id": "aGVWp4wPJo3U"
      },
      "execution_count": null,
      "outputs": []
    },
    {
      "cell_type": "markdown",
      "source": [
        "This command removes all header lines (lines starting with '>') from the input FASTA file, leaving only the sequence data."
      ],
      "metadata": {
        "id": "MLQL_tamP5HE"
      }
    },
    {
      "cell_type": "code",
      "source": [
        "!cat output_sequences.txt"
      ],
      "metadata": {
        "colab": {
          "base_uri": "https://localhost:8080/"
        },
        "id": "FEH6sdVHJ1O5",
        "outputId": "3d15d71f-7001-4368-8f3d-28f131213dc2"
      },
      "execution_count": null,
      "outputs": [
        {
          "output_type": "stream",
          "name": "stdout",
          "text": [
            "TGCGATCGATCG\n",
            "ATCGATCGNAT\n",
            "TGCGATCGATCG"
          ]
        }
      ]
    },
    {
      "cell_type": "markdown",
      "source": [
        "**Now navigate to the LMS and attempt the \"Quiz on basic Linux commands\"!**"
      ],
      "metadata": {
        "id": "mhCt3QeoiNXD"
      }
    }
  ]
}